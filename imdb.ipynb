{
 "cells": [
  {
   "cell_type": "code",
   "execution_count": 1,
   "id": "fde6319c",
   "metadata": {},
   "outputs": [
    {
     "name": "stderr",
     "output_type": "stream",
     "text": [
      "c:\\users\\prati\\appdata\\local\\programs\\python\\python39\\lib\\site-packages\\requests\\__init__.py:102: RequestsDependencyWarning: urllib3 (2.1.0) or chardet (5.2.0)/charset_normalizer (3.3.2) doesn't match a supported version!\n",
      "  warnings.warn(\"urllib3 ({}) or chardet ({})/charset_normalizer ({}) doesn't match a supported \"\n"
     ]
    }
   ],
   "source": [
    "import numpy as np\n",
    "from keras.datasets import imdb\n",
    "from keras import models\n",
    "from keras import layers\n",
    "from keras import optimizers\n",
    "from keras import losses\n",
    "from keras import metrics\n",
    "import matplotlib.pyplot as plt\n",
    "from sklearn.metrics import confusion_matrix, classification_report, precision_recall_curve\n",
    "import seaborn as sns\n",
    "\n",
    "%matplotlib inline\n",
    "\n",
    "# Load the data, keeping only 10,000 of the most frequently occurring words\n",
    "(train_data, train_labels), (test_data, test_labels) = imdb.load_data(num_words=10000)\n"
   ]
  },
  {
   "cell_type": "code",
   "execution_count": 2,
   "id": "d8785c4c",
   "metadata": {},
   "outputs": [],
   "source": [
    "# Convert the integer sequences into binary matrix\n",
    "def vectorize_sequences(sequences, dimension=10000):\n",
    "    results = np.zeros((len(sequences), dimension))\n",
    "    for i, sequence in enumerate(sequences):\n",
    "        results[i, sequence] = 1\n",
    "    return results\n",
    "\n",
    "# Vectorize training and testing data\n",
    "X_train = vectorize_sequences(train_data)\n",
    "X_test = vectorize_sequences(test_data)\n",
    "\n",
    "# Convert labels to float32\n",
    "y_train = np.asarray(train_labels).astype('float32')\n",
    "y_test = np.asarray(test_labels).astype('float32')\n",
    "\n",
    "# Validation set\n",
    "X_val = X_train[:10000]\n",
    "partial_X_train = X_train[10000:]\n",
    "y_val = y_train[:10000]\n",
    "partial_y_train = y_train[10000:]\n",
    "\n",
    "# Define the model architecture\n",
    "model = models.Sequential()\n",
    "model.add(layers.Dense(16, activation='relu', input_shape=(10000,)))\n",
    "model.add(layers.Dense(16, activation='relu'))\n",
    "model.add(layers.Dense(1, activation='sigmoid'))\n",
    "\n",
    "# Compile the model\n",
    "model.compile(optimizer=optimizers.RMSprop(learning_rate=0.001),\n",
    "              loss=losses.binary_crossentropy,\n",
    "              metrics=[metrics.binary_accuracy])\n"
   ]
  },
  {
   "cell_type": "code",
   "execution_count": 3,
   "id": "4f40eba6",
   "metadata": {},
   "outputs": [
    {
     "name": "stdout",
     "output_type": "stream",
     "text": [
      "Epoch 1/20\n",
      "30/30 [==============================] - 5s 137ms/step - loss: 0.5193 - binary_accuracy: 0.7851 - val_loss: 0.3978 - val_binary_accuracy: 0.8622\n",
      "Epoch 2/20\n",
      "30/30 [==============================] - 1s 21ms/step - loss: 0.3159 - binary_accuracy: 0.9016 - val_loss: 0.3158 - val_binary_accuracy: 0.8835\n",
      "Epoch 3/20\n",
      "30/30 [==============================] - 1s 21ms/step - loss: 0.2320 - binary_accuracy: 0.9261 - val_loss: 0.2851 - val_binary_accuracy: 0.8881\n",
      "Epoch 4/20\n",
      "30/30 [==============================] - 1s 20ms/step - loss: 0.1840 - binary_accuracy: 0.9407 - val_loss: 0.2734 - val_binary_accuracy: 0.8908\n",
      "Epoch 5/20\n",
      "30/30 [==============================] - 1s 20ms/step - loss: 0.1520 - binary_accuracy: 0.9517 - val_loss: 0.2776 - val_binary_accuracy: 0.8884\n",
      "Epoch 6/20\n",
      "30/30 [==============================] - 1s 19ms/step - loss: 0.1255 - binary_accuracy: 0.9632 - val_loss: 0.2930 - val_binary_accuracy: 0.8838\n",
      "Epoch 7/20\n",
      "30/30 [==============================] - 1s 20ms/step - loss: 0.1080 - binary_accuracy: 0.9682 - val_loss: 0.3195 - val_binary_accuracy: 0.8773\n",
      "Epoch 8/20\n",
      "30/30 [==============================] - 1s 21ms/step - loss: 0.0896 - binary_accuracy: 0.9749 - val_loss: 0.3627 - val_binary_accuracy: 0.8721\n",
      "Epoch 9/20\n",
      "30/30 [==============================] - 1s 20ms/step - loss: 0.0794 - binary_accuracy: 0.9781 - val_loss: 0.3360 - val_binary_accuracy: 0.8799\n",
      "Epoch 10/20\n",
      "30/30 [==============================] - 1s 20ms/step - loss: 0.0654 - binary_accuracy: 0.9834 - val_loss: 0.3676 - val_binary_accuracy: 0.8727\n",
      "Epoch 11/20\n",
      "30/30 [==============================] - 1s 19ms/step - loss: 0.0532 - binary_accuracy: 0.9880 - val_loss: 0.4042 - val_binary_accuracy: 0.8685\n",
      "Epoch 12/20\n",
      "30/30 [==============================] - 1s 18ms/step - loss: 0.0455 - binary_accuracy: 0.9897 - val_loss: 0.4151 - val_binary_accuracy: 0.8778\n",
      "Epoch 13/20\n",
      "30/30 [==============================] - 1s 19ms/step - loss: 0.0388 - binary_accuracy: 0.9911 - val_loss: 0.4385 - val_binary_accuracy: 0.8756\n",
      "Epoch 14/20\n",
      "30/30 [==============================] - 1s 20ms/step - loss: 0.0320 - binary_accuracy: 0.9937 - val_loss: 0.4741 - val_binary_accuracy: 0.8669\n",
      "Epoch 15/20\n",
      "30/30 [==============================] - 1s 19ms/step - loss: 0.0248 - binary_accuracy: 0.9960 - val_loss: 0.5076 - val_binary_accuracy: 0.8641\n",
      "Epoch 16/20\n",
      "30/30 [==============================] - 1s 18ms/step - loss: 0.0212 - binary_accuracy: 0.9967 - val_loss: 0.5532 - val_binary_accuracy: 0.8686\n",
      "Epoch 17/20\n",
      "30/30 [==============================] - 1s 21ms/step - loss: 0.0167 - binary_accuracy: 0.9981 - val_loss: 0.5632 - val_binary_accuracy: 0.8691\n",
      "Epoch 18/20\n",
      "30/30 [==============================] - 1s 20ms/step - loss: 0.0132 - binary_accuracy: 0.9987 - val_loss: 0.6017 - val_binary_accuracy: 0.8640\n",
      "Epoch 19/20\n",
      "30/30 [==============================] - 1s 20ms/step - loss: 0.0106 - binary_accuracy: 0.9993 - val_loss: 0.6449 - val_binary_accuracy: 0.8623\n",
      "Epoch 20/20\n",
      "30/30 [==============================] - 1s 19ms/step - loss: 0.0093 - binary_accuracy: 0.9993 - val_loss: 0.6760 - val_binary_accuracy: 0.8612\n"
     ]
    }
   ],
   "source": [
    "# Train the model\n",
    "history = model.fit(partial_X_train,\n",
    "                    partial_y_train,\n",
    "                    epochs=20,\n",
    "                    batch_size=512,\n",
    "                    validation_data=(X_val, y_val))\n"
   ]
  },
  {
   "cell_type": "code",
   "execution_count": 4,
   "id": "0b15e41a",
   "metadata": {},
   "outputs": [
    {
     "data": {
      "image/png": "[encoded data removed]",
      "text/plain": [
       "<Figure size 432x288 with 1 Axes>"
      ]
     },
     "metadata": {
      "needs_background": "light"
     },
     "output_type": "display_data"
    }
   ],
   "source": [
    "# Plotting losses\n",
    "history_dict = history.history\n",
    "loss_values = history_dict['loss']\n",
    "val_loss_values = history_dict['val_loss']\n",
    "epochs = range(1, len(loss_values) + 1)\n",
    "plt.plot(epochs, loss_values, 'g', label=\"Training Loss\")\n",
    "plt.plot(epochs, val_loss_values, 'b', label=\"Validation Loss\")\n",
    "plt.title('Training and Validation Loss')\n",
    "plt.xlabel('Epochs')\n",
    "plt.ylabel('Loss Value')\n",
    "plt.legend()\n",
    "plt.show()\n"
   ]
  },
  {
   "cell_type": "code",
   "execution_count": 5,
   "id": "6c6fb2de",
   "metadata": {},
   "outputs": [
    {
     "data": {
      "image/png": "[encoded data removed]",
      "text/plain": [
       "<Figure size 432x288 with 1 Axes>"
      ]
     },
     "metadata": {
      "needs_background": "light"
     },
     "output_type": "display_data"
    }
   ],
   "source": [
    "# Plotting accuracies\n",
    "acc_values = history_dict['binary_accuracy']\n",
    "val_acc_values = history_dict['val_binary_accuracy']\n",
    "plt.plot(epochs, acc_values, 'g', label=\"Training Accuracy\")\n",
    "plt.plot(epochs, val_acc_values, 'b', label=\"Validation Accuracy\")\n",
    "plt.title('Training and Validation Accuracy')\n",
    "plt.xlabel('Epochs')\n",
    "plt.ylabel('Accuracy')\n",
    "plt.legend()\n",
    "plt.show()"
   ]
  },
  {
   "cell_type": "code",
   "execution_count": 6,
   "id": "2661cad5",
   "metadata": {},
   "outputs": [
    {
     "name": "stdout",
     "output_type": "stream",
     "text": [
      "782/782 [==============================] - 2s 2ms/step - loss: 0.7408 - binary_accuracy: 0.8480\n",
      "Test Loss: 0.7408326268196106\n",
      "Test Accuracy: 0.848039984703064\n"
     ]
    }
   ],
   "source": [
    "# Evaluate the model on test data\n",
    "test_loss, test_accuracy = model.evaluate(X_test, y_test)\n",
    "print(\"Test Loss:\", test_loss)\n",
    "print(\"Test Accuracy:\", test_accuracy)\n"
   ]
  },
  {
   "cell_type": "code",
   "execution_count": 7,
   "id": "2781d03e",
   "metadata": {},
   "outputs": [
    {
     "name": "stdout",
     "output_type": "stream",
     "text": [
      "782/782 [==============================] - 2s 3ms/step\n"
     ]
    }
   ],
   "source": [
    "# Make predictions on test data\n",
    "y_pred = model.predict(X_test)\n",
    "y_pred_binary = np.round(y_pred)"
   ]
  },
  {
   "cell_type": "code",
   "execution_count": 8,
   "id": "2a5bc99c",
   "metadata": {},
   "outputs": [
    {
     "data": {
      "image/png": "[encoded data removed]",
      "text/plain": [
       "<Figure size 576x432 with 2 Axes>"
      ]
     },
     "metadata": {
      "needs_background": "light"
     },
     "output_type": "display_data"
    }
   ],
   "source": [
    "# Generate confusion matrix\n",
    "conf_matrix = confusion_matrix(y_test, y_pred_binary)\n",
    "\n",
    "# Plot confusion matrix\n",
    "plt.figure(figsize=(8, 6))\n",
    "sns.heatmap(conf_matrix, annot=True, fmt=\"d\", cmap=\"Blues\", \n",
    "            xticklabels=['Negative', 'Positive'], yticklabels=['Negative', 'Positive'])\n",
    "plt.xlabel('Predicted Labels')\n",
    "plt.ylabel('True Labels')\n",
    "plt.title('Confusion Matrix')\n",
    "plt.show()"
   ]
  },
  {
   "cell_type": "code",
   "execution_count": 9,
   "id": "090fbee0",
   "metadata": {},
   "outputs": [
    {
     "name": "stdout",
     "output_type": "stream",
     "text": [
      "Classification Report:\n",
      "              precision    recall  f1-score   support\n",
      "\n",
      "         0.0       0.83      0.88      0.85     12500\n",
      "         1.0       0.87      0.82      0.84     12500\n",
      "\n",
      "    accuracy                           0.85     25000\n",
      "   macro avg       0.85      0.85      0.85     25000\n",
      "weighted avg       0.85      0.85      0.85     25000\n",
      "\n"
     ]
    }
   ],
   "source": [
    "# Generate the classification report\n",
    "report = classification_report(y_test, y_pred_binary)\n",
    "print(\"Classification Report:\")\n",
    "print(report)"
   ]
  },
  {
   "cell_type": "code",
   "execution_count": 10,
   "id": "6063b5e5",
   "metadata": {},
   "outputs": [
    {
     "name": "stdout",
     "output_type": "stream",
     "text": [
      "782/782 [==============================] - 2s 2ms/step\n"
     ]
    }
   ],
   "source": [
    "# Use the model to predict probabilities for the positive class\n",
    "y_score = model.predict(X_test)\n"
   ]
  },
  {
   "cell_type": "code",
   "execution_count": 11,
   "id": "7115186a",
   "metadata": {},
   "outputs": [
    {
     "data": {
      "image/png": "[encoded data removed]",
      "text/plain": [
       "<Figure size 432x288 with 1 Axes>"
      ]
     },
     "metadata": {
      "needs_background": "light"
     },
     "output_type": "display_data"
    }
   ],
   "source": [
    "# Calculate precision and recall for different thresholds\n",
    "precision, recall, thresholds = precision_recall_curve(y_test, y_score)\n",
    "\n",
    "# Plot precision-recall curve\n",
    "plt.figure()\n",
    "plt.plot(recall, precision, label='Precision-Recall curve')\n",
    "plt.xlabel('Recall')\n",
    "plt.ylabel('Precision')\n",
    "plt.title('Precision-Recall Curve')\n",
    "plt.legend()\n",
    "plt.show()"
   ]
  },
  {
   "cell_type": "code",
   "execution_count": 12,
   "id": "7e907983",
   "metadata": {},
   "outputs": [
    {
     "name": "stdout",
     "output_type": "stream",
     "text": [
      "Comment: ? i watched 40 minutes and couldn't bear it any longer  the television went off and i returned to some light reading ? for ? br br it was hard to say what aspect of this production was most ? dialogue made up entirely of sound ? or the acting by numbers br br it was difficult to determine the period in which the drama was supposed to take place there were throw away references to lord nelson and slavery but edmund the ? to be played by blake was the only actor who one could believe inhabited the early 19th century the other bright young things had make up and costumes more appropriate to a 21st century fancy dress party the ? blonde ? ? ? being the least credible character br br uk commercial television obviously believes ? ? ? lips and deep meaningful looks make a good story fortunately jane austen had other ideas br br if you want to find out the story of ? park buy the 1983 mini series dvd\n",
      "Actual Label: Negative\n",
      "Predicted Label: Negative\n"
     ]
    }
   ],
   "source": [
    "# Select a random index from the test data\n",
    "import random\n",
    "random_index = random.randint(0, len(test_data) - 1)\n",
    "\n",
    "# Get the comment and its corresponding label from the test data\n",
    "comment = test_data[random_index]\n",
    "actual_label = int(test_labels[random_index])\n",
    "\n",
    "# Predict the sentiment of the comment\n",
    "predicted_label = int(y_pred_binary[random_index])\n",
    "\n",
    "# Decode the comment from integer sequence to words\n",
    "word_index = imdb.get_word_index()\n",
    "reverse_word_index = dict([(value, key) for (key, value) in word_index.items()])\n",
    "decoded_comment = ' '.join([reverse_word_index.get(i - 3, '?') for i in comment])\n",
    "\n",
    "# Display the comment, actual label, and predicted label\n",
    "print(\"Comment:\", decoded_comment)\n",
    "print(\"Actual Label:\", \"Positive\" if actual_label == 1 else \"Negative\")\n",
    "print(\"Predicted Label:\", \"Positive\" if predicted_label == 1 else \"Negative\")\n"
   ]
  },
  {
   "cell_type": "code",
   "execution_count": 13,
   "id": "e1448138",
   "metadata": {},
   "outputs": [
    {
     "name": "stdout",
     "output_type": "stream",
     "text": [
      "1/1 [==============================] - 0s 16ms/step\n",
      "1/1 [==============================] - 0s 24ms/step\n",
      "Negative Comment Prediction: Negative\n",
      "Positive Comment Prediction: Positive\n"
     ]
    }
   ],
   "source": [
    "# Independent comments\n",
    "negative_comment = \"This movie was terrible. The acting was awful, and the plot was boring.\"\n",
    "positive_comment = \"I absolutely loved this film! The performances were outstanding, and the storyline kept me engaged throughout.\"\n",
    "\n",
    "# Tokenize the comments\n",
    "negative_tokens = imdb.get_word_index()\n",
    "negative_tokens = {k:(v+3) for k,v in negative_tokens.items()}\n",
    "negative_tokens[\"<PAD>\"] = 0\n",
    "negative_tokens[\"<START>\"] = 1\n",
    "negative_tokens[\"<UNK>\"] = 2\n",
    "\n",
    "positive_tokens = imdb.get_word_index()\n",
    "positive_tokens = {k:(v+3) for k,v in positive_tokens.items()}\n",
    "positive_tokens[\"<PAD>\"] = 0\n",
    "positive_tokens[\"<START>\"] = 1\n",
    "positive_tokens[\"<UNK>\"] = 2\n",
    "\n",
    "# Convert the comments to sequences\n",
    "negative_sequence = [negative_tokens[word] if word in negative_tokens else negative_tokens[\"<UNK>\"] for word in negative_comment.split()]\n",
    "positive_sequence = [positive_tokens[word] if word in positive_tokens else positive_tokens[\"<UNK>\"] for word in positive_comment.split()]\n",
    "\n",
    "# Vectorize the sequences\n",
    "negative_vector = vectorize_sequences([negative_sequence])\n",
    "positive_vector = vectorize_sequences([positive_sequence])\n",
    "\n",
    "# Predict sentiments\n",
    "negative_prediction = model.predict(negative_vector)\n",
    "positive_prediction = model.predict(positive_vector)\n",
    "\n",
    "# Print the predictions\n",
    "print(\"Negative Comment Prediction:\", \"Positive\" if negative_prediction[0][0] > 0.5 else \"Negative\")\n",
    "print(\"Positive Comment Prediction:\", \"Positive\" if positive_prediction[0][0] > 0.5 else \"Negative\")\n"
   ]
  },
  {
   "cell_type": "code",
   "execution_count": null,
   "id": "0acf75bc",
   "metadata": {},
   "outputs": [],
   "source": []
  }
 ],
 "metadata": {
  "kernelspec": {
   "display_name": "Python 3 (ipykernel)",
   "language": "python",
   "name": "python3"
  },
  "language_info": {
   "codemirror_mode": {
    "name": "ipython",
    "version": 3
   },
   "file_extension": ".py",
   "mimetype": "text/x-python",
   "name": "python",
   "nbconvert_exporter": "python",
   "pygments_lexer": "ipython3",
   "version": "3.9.5"
  }
 },
 "nbformat": 4,
 "nbformat_minor": 5
}
