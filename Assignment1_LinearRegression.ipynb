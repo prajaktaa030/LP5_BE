{
 "cells": [
  {
   "cell_type": "code",
   "execution_count": 1,
   "id": "36e90601",
   "metadata": {},
   "outputs": [],
   "source": [
    "import pandas as pd\n",
    "import matplotlib.pyplot as plt"
   ]
  },
  {
   "cell_type": "markdown",
   "id": "09c0d469",
   "metadata": {},
   "source": [
    "### Load Dataset"
   ]
  },
  {
   "cell_type": "code",
   "execution_count": 2,
   "id": "64638d93",
   "metadata": {},
   "outputs": [
    {
     "data": {
      "text/html": [
       "<div>\n",
       "<style scoped>\n",
       "    .dataframe tbody tr th:only-of-type {\n",
       "        vertical-align: middle;\n",
       "    }\n",
       "\n",
       "    .dataframe tbody tr th {\n",
       "        vertical-align: top;\n",
       "    }\n",
       "\n",
       "    .dataframe thead th {\n",
       "        text-align: right;\n",
       "    }\n",
       "</style>\n",
       "<table border=\"1\" class=\"dataframe\">\n",
       "  <thead>\n",
       "    <tr style=\"text-align: right;\">\n",
       "      <th></th>\n",
       "      <th>CRIM</th>\n",
       "      <th>ZN</th>\n",
       "      <th>INDUS</th>\n",
       "      <th>CHAS</th>\n",
       "      <th>NOX</th>\n",
       "      <th>RM</th>\n",
       "      <th>AGE</th>\n",
       "      <th>DIS</th>\n",
       "      <th>RAD</th>\n",
       "      <th>TAX</th>\n",
       "      <th>PTRATIO</th>\n",
       "      <th>B</th>\n",
       "      <th>LSTAT</th>\n",
       "      <th>MEDV</th>\n",
       "      <th>CAT. MEDV</th>\n",
       "      <th>Unnamed: 15</th>\n",
       "      <th>Unnamed: 16</th>\n",
       "    </tr>\n",
       "  </thead>\n",
       "  <tbody>\n",
       "    <tr>\n",
       "      <th>0</th>\n",
       "      <td>0.00632</td>\n",
       "      <td>18.0</td>\n",
       "      <td>2.31</td>\n",
       "      <td>0</td>\n",
       "      <td>0.538</td>\n",
       "      <td>6.575</td>\n",
       "      <td>65.2</td>\n",
       "      <td>4.0900</td>\n",
       "      <td>1</td>\n",
       "      <td>296</td>\n",
       "      <td>15.3</td>\n",
       "      <td>396.90</td>\n",
       "      <td>4.98</td>\n",
       "      <td>24.0</td>\n",
       "      <td>0</td>\n",
       "      <td>NaN</td>\n",
       "      <td>NaN</td>\n",
       "    </tr>\n",
       "    <tr>\n",
       "      <th>1</th>\n",
       "      <td>0.02731</td>\n",
       "      <td>0.0</td>\n",
       "      <td>7.07</td>\n",
       "      <td>0</td>\n",
       "      <td>0.469</td>\n",
       "      <td>6.421</td>\n",
       "      <td>78.9</td>\n",
       "      <td>4.9671</td>\n",
       "      <td>2</td>\n",
       "      <td>242</td>\n",
       "      <td>17.8</td>\n",
       "      <td>396.90</td>\n",
       "      <td>9.14</td>\n",
       "      <td>21.6</td>\n",
       "      <td>0</td>\n",
       "      <td>NaN</td>\n",
       "      <td>NaN</td>\n",
       "    </tr>\n",
       "    <tr>\n",
       "      <th>2</th>\n",
       "      <td>0.02729</td>\n",
       "      <td>0.0</td>\n",
       "      <td>7.07</td>\n",
       "      <td>0</td>\n",
       "      <td>0.469</td>\n",
       "      <td>7.185</td>\n",
       "      <td>61.1</td>\n",
       "      <td>4.9671</td>\n",
       "      <td>2</td>\n",
       "      <td>242</td>\n",
       "      <td>17.8</td>\n",
       "      <td>392.83</td>\n",
       "      <td>4.03</td>\n",
       "      <td>34.7</td>\n",
       "      <td>1</td>\n",
       "      <td>NaN</td>\n",
       "      <td>NaN</td>\n",
       "    </tr>\n",
       "    <tr>\n",
       "      <th>3</th>\n",
       "      <td>0.03237</td>\n",
       "      <td>0.0</td>\n",
       "      <td>2.18</td>\n",
       "      <td>0</td>\n",
       "      <td>0.458</td>\n",
       "      <td>6.998</td>\n",
       "      <td>45.8</td>\n",
       "      <td>6.0622</td>\n",
       "      <td>3</td>\n",
       "      <td>222</td>\n",
       "      <td>18.7</td>\n",
       "      <td>394.63</td>\n",
       "      <td>2.94</td>\n",
       "      <td>33.4</td>\n",
       "      <td>1</td>\n",
       "      <td>NaN</td>\n",
       "      <td>NaN</td>\n",
       "    </tr>\n",
       "    <tr>\n",
       "      <th>4</th>\n",
       "      <td>0.06905</td>\n",
       "      <td>0.0</td>\n",
       "      <td>2.18</td>\n",
       "      <td>0</td>\n",
       "      <td>0.458</td>\n",
       "      <td>7.147</td>\n",
       "      <td>54.2</td>\n",
       "      <td>6.0622</td>\n",
       "      <td>3</td>\n",
       "      <td>222</td>\n",
       "      <td>18.7</td>\n",
       "      <td>396.90</td>\n",
       "      <td>5.33</td>\n",
       "      <td>36.2</td>\n",
       "      <td>1</td>\n",
       "      <td>NaN</td>\n",
       "      <td>NaN</td>\n",
       "    </tr>\n",
       "    <tr>\n",
       "      <th>5</th>\n",
       "      <td>0.02985</td>\n",
       "      <td>0.0</td>\n",
       "      <td>2.18</td>\n",
       "      <td>0</td>\n",
       "      <td>0.458</td>\n",
       "      <td>6.430</td>\n",
       "      <td>58.7</td>\n",
       "      <td>6.0622</td>\n",
       "      <td>3</td>\n",
       "      <td>222</td>\n",
       "      <td>18.7</td>\n",
       "      <td>394.12</td>\n",
       "      <td>5.21</td>\n",
       "      <td>28.7</td>\n",
       "      <td>0</td>\n",
       "      <td>NaN</td>\n",
       "      <td>NaN</td>\n",
       "    </tr>\n",
       "    <tr>\n",
       "      <th>6</th>\n",
       "      <td>0.08829</td>\n",
       "      <td>12.5</td>\n",
       "      <td>7.87</td>\n",
       "      <td>0</td>\n",
       "      <td>0.524</td>\n",
       "      <td>6.012</td>\n",
       "      <td>66.6</td>\n",
       "      <td>5.5605</td>\n",
       "      <td>5</td>\n",
       "      <td>311</td>\n",
       "      <td>15.2</td>\n",
       "      <td>395.60</td>\n",
       "      <td>12.43</td>\n",
       "      <td>22.9</td>\n",
       "      <td>0</td>\n",
       "      <td>NaN</td>\n",
       "      <td>NaN</td>\n",
       "    </tr>\n",
       "    <tr>\n",
       "      <th>7</th>\n",
       "      <td>0.14455</td>\n",
       "      <td>12.5</td>\n",
       "      <td>7.87</td>\n",
       "      <td>0</td>\n",
       "      <td>0.524</td>\n",
       "      <td>6.172</td>\n",
       "      <td>96.1</td>\n",
       "      <td>5.9505</td>\n",
       "      <td>5</td>\n",
       "      <td>311</td>\n",
       "      <td>15.2</td>\n",
       "      <td>396.90</td>\n",
       "      <td>19.15</td>\n",
       "      <td>27.1</td>\n",
       "      <td>0</td>\n",
       "      <td>NaN</td>\n",
       "      <td>NaN</td>\n",
       "    </tr>\n",
       "    <tr>\n",
       "      <th>8</th>\n",
       "      <td>0.21124</td>\n",
       "      <td>12.5</td>\n",
       "      <td>7.87</td>\n",
       "      <td>0</td>\n",
       "      <td>0.524</td>\n",
       "      <td>5.631</td>\n",
       "      <td>100.0</td>\n",
       "      <td>6.0821</td>\n",
       "      <td>5</td>\n",
       "      <td>311</td>\n",
       "      <td>15.2</td>\n",
       "      <td>386.63</td>\n",
       "      <td>29.93</td>\n",
       "      <td>16.5</td>\n",
       "      <td>0</td>\n",
       "      <td>NaN</td>\n",
       "      <td>NaN</td>\n",
       "    </tr>\n",
       "    <tr>\n",
       "      <th>9</th>\n",
       "      <td>0.17004</td>\n",
       "      <td>12.5</td>\n",
       "      <td>7.87</td>\n",
       "      <td>0</td>\n",
       "      <td>0.524</td>\n",
       "      <td>6.004</td>\n",
       "      <td>85.9</td>\n",
       "      <td>6.5921</td>\n",
       "      <td>5</td>\n",
       "      <td>311</td>\n",
       "      <td>15.2</td>\n",
       "      <td>386.71</td>\n",
       "      <td>17.10</td>\n",
       "      <td>18.9</td>\n",
       "      <td>0</td>\n",
       "      <td>NaN</td>\n",
       "      <td>NaN</td>\n",
       "    </tr>\n",
       "  </tbody>\n",
       "</table>\n",
       "</div>"
      ],
      "text/plain": [
       "      CRIM    ZN  INDUS  CHAS    NOX     RM    AGE     DIS  RAD  TAX  PTRATIO  \\\n",
       "0  0.00632  18.0   2.31     0  0.538  6.575   65.2  4.0900    1  296     15.3   \n",
       "1  0.02731   0.0   7.07     0  0.469  6.421   78.9  4.9671    2  242     17.8   \n",
       "2  0.02729   0.0   7.07     0  0.469  7.185   61.1  4.9671    2  242     17.8   \n",
       "3  0.03237   0.0   2.18     0  0.458  6.998   45.8  6.0622    3  222     18.7   \n",
       "4  0.06905   0.0   2.18     0  0.458  7.147   54.2  6.0622    3  222     18.7   \n",
       "5  0.02985   0.0   2.18     0  0.458  6.430   58.7  6.0622    3  222     18.7   \n",
       "6  0.08829  12.5   7.87     0  0.524  6.012   66.6  5.5605    5  311     15.2   \n",
       "7  0.14455  12.5   7.87     0  0.524  6.172   96.1  5.9505    5  311     15.2   \n",
       "8  0.21124  12.5   7.87     0  0.524  5.631  100.0  6.0821    5  311     15.2   \n",
       "9  0.17004  12.5   7.87     0  0.524  6.004   85.9  6.5921    5  311     15.2   \n",
       "\n",
       "        B  LSTAT  MEDV  CAT. MEDV  Unnamed: 15  Unnamed: 16  \n",
       "0  396.90   4.98  24.0          0          NaN          NaN  \n",
       "1  396.90   9.14  21.6          0          NaN          NaN  \n",
       "2  392.83   4.03  34.7          1          NaN          NaN  \n",
       "3  394.63   2.94  33.4          1          NaN          NaN  \n",
       "4  396.90   5.33  36.2          1          NaN          NaN  \n",
       "5  394.12   5.21  28.7          0          NaN          NaN  \n",
       "6  395.60  12.43  22.9          0          NaN          NaN  \n",
       "7  396.90  19.15  27.1          0          NaN          NaN  \n",
       "8  386.63  29.93  16.5          0          NaN          NaN  \n",
       "9  386.71  17.10  18.9          0          NaN          NaN  "
      ]
     },
     "execution_count": 2,
     "metadata": {},
     "output_type": "execute_result"
    }
   ],
   "source": [
    "df = pd.read_csv('Boston.csv')\n",
    "df.head(10)"
   ]
  },
  {
   "cell_type": "code",
   "execution_count": 3,
   "id": "55426a1b",
   "metadata": {},
   "outputs": [],
   "source": [
    "df.drop(columns=['Unnamed: 15','Unnamed: 16'],inplace=True)"
   ]
  },
  {
   "cell_type": "code",
   "execution_count": 4,
   "id": "dade5278",
   "metadata": {},
   "outputs": [],
   "source": [
    "df.drop(columns=['CAT. MEDV'],inplace=True)"
   ]
  },
  {
   "cell_type": "markdown",
   "id": "17d566fe",
   "metadata": {},
   "source": [
    "#### Checking for null values"
   ]
  },
  {
   "cell_type": "code",
   "execution_count": 5,
   "id": "e4792737",
   "metadata": {},
   "outputs": [
    {
     "data": {
      "text/plain": [
       "CRIM       0\n",
       "ZN         0\n",
       "INDUS      0\n",
       "CHAS       0\n",
       "NOX        0\n",
       "RM         0\n",
       "AGE        0\n",
       "DIS        0\n",
       "RAD        0\n",
       "TAX        0\n",
       "PTRATIO    0\n",
       "B          0\n",
       "LSTAT      0\n",
       "MEDV       0\n",
       "dtype: int64"
      ]
     },
     "execution_count": 5,
     "metadata": {},
     "output_type": "execute_result"
    }
   ],
   "source": [
    "df.isnull().sum()"
   ]
  },
  {
   "cell_type": "code",
   "execution_count": 6,
   "id": "036b309e",
   "metadata": {},
   "outputs": [
    {
     "name": "stdout",
     "output_type": "stream",
     "text": [
      "<class 'pandas.core.frame.DataFrame'>\n",
      "RangeIndex: 506 entries, 0 to 505\n",
      "Data columns (total 14 columns):\n",
      " #   Column   Non-Null Count  Dtype  \n",
      "---  ------   --------------  -----  \n",
      " 0   CRIM     506 non-null    float64\n",
      " 1   ZN       506 non-null    float64\n",
      " 2   INDUS    506 non-null    float64\n",
      " 3   CHAS     506 non-null    int64  \n",
      " 4   NOX      506 non-null    float64\n",
      " 5   RM       506 non-null    float64\n",
      " 6   AGE      506 non-null    float64\n",
      " 7   DIS      506 non-null    float64\n",
      " 8   RAD      506 non-null    int64  \n",
      " 9   TAX      506 non-null    int64  \n",
      " 10  PTRATIO  506 non-null    float64\n",
      " 11  B        506 non-null    float64\n",
      " 12  LSTAT    506 non-null    float64\n",
      " 13  MEDV     506 non-null    float64\n",
      "dtypes: float64(11), int64(3)\n",
      "memory usage: 55.5 KB\n"
     ]
    }
   ],
   "source": [
    "df.info()"
   ]
  },
  {
   "cell_type": "code",
   "execution_count": 7,
   "id": "851ae670",
   "metadata": {},
   "outputs": [
    {
     "data": {
      "text/html": [
       "<div>\n",
       "<style scoped>\n",
       "    .dataframe tbody tr th:only-of-type {\n",
       "        vertical-align: middle;\n",
       "    }\n",
       "\n",
       "    .dataframe tbody tr th {\n",
       "        vertical-align: top;\n",
       "    }\n",
       "\n",
       "    .dataframe thead th {\n",
       "        text-align: right;\n",
       "    }\n",
       "</style>\n",
       "<table border=\"1\" class=\"dataframe\">\n",
       "  <thead>\n",
       "    <tr style=\"text-align: right;\">\n",
       "      <th></th>\n",
       "      <th>CRIM</th>\n",
       "      <th>ZN</th>\n",
       "      <th>INDUS</th>\n",
       "      <th>CHAS</th>\n",
       "      <th>NOX</th>\n",
       "      <th>RM</th>\n",
       "      <th>AGE</th>\n",
       "      <th>DIS</th>\n",
       "      <th>RAD</th>\n",
       "      <th>TAX</th>\n",
       "      <th>PTRATIO</th>\n",
       "      <th>B</th>\n",
       "      <th>LSTAT</th>\n",
       "      <th>MEDV</th>\n",
       "    </tr>\n",
       "  </thead>\n",
       "  <tbody>\n",
       "    <tr>\n",
       "      <th>count</th>\n",
       "      <td>506.000000</td>\n",
       "      <td>506.000000</td>\n",
       "      <td>506.000000</td>\n",
       "      <td>506.000000</td>\n",
       "      <td>506.000000</td>\n",
       "      <td>506.000000</td>\n",
       "      <td>506.000000</td>\n",
       "      <td>506.000000</td>\n",
       "      <td>506.000000</td>\n",
       "      <td>506.000000</td>\n",
       "      <td>506.000000</td>\n",
       "      <td>506.000000</td>\n",
       "      <td>506.000000</td>\n",
       "      <td>506.000000</td>\n",
       "    </tr>\n",
       "    <tr>\n",
       "      <th>mean</th>\n",
       "      <td>3.613524</td>\n",
       "      <td>11.363636</td>\n",
       "      <td>11.136779</td>\n",
       "      <td>0.069170</td>\n",
       "      <td>0.554695</td>\n",
       "      <td>6.284634</td>\n",
       "      <td>68.574901</td>\n",
       "      <td>3.795043</td>\n",
       "      <td>9.549407</td>\n",
       "      <td>408.237154</td>\n",
       "      <td>18.455534</td>\n",
       "      <td>356.674032</td>\n",
       "      <td>12.653063</td>\n",
       "      <td>22.532806</td>\n",
       "    </tr>\n",
       "    <tr>\n",
       "      <th>std</th>\n",
       "      <td>8.601545</td>\n",
       "      <td>23.322453</td>\n",
       "      <td>6.860353</td>\n",
       "      <td>0.253994</td>\n",
       "      <td>0.115878</td>\n",
       "      <td>0.702617</td>\n",
       "      <td>28.148861</td>\n",
       "      <td>2.105710</td>\n",
       "      <td>8.707259</td>\n",
       "      <td>168.537116</td>\n",
       "      <td>2.164946</td>\n",
       "      <td>91.294864</td>\n",
       "      <td>7.141062</td>\n",
       "      <td>9.197104</td>\n",
       "    </tr>\n",
       "    <tr>\n",
       "      <th>min</th>\n",
       "      <td>0.006320</td>\n",
       "      <td>0.000000</td>\n",
       "      <td>0.460000</td>\n",
       "      <td>0.000000</td>\n",
       "      <td>0.385000</td>\n",
       "      <td>3.561000</td>\n",
       "      <td>2.900000</td>\n",
       "      <td>1.129600</td>\n",
       "      <td>1.000000</td>\n",
       "      <td>187.000000</td>\n",
       "      <td>12.600000</td>\n",
       "      <td>0.320000</td>\n",
       "      <td>1.730000</td>\n",
       "      <td>5.000000</td>\n",
       "    </tr>\n",
       "    <tr>\n",
       "      <th>25%</th>\n",
       "      <td>0.082045</td>\n",
       "      <td>0.000000</td>\n",
       "      <td>5.190000</td>\n",
       "      <td>0.000000</td>\n",
       "      <td>0.449000</td>\n",
       "      <td>5.885500</td>\n",
       "      <td>45.025000</td>\n",
       "      <td>2.100175</td>\n",
       "      <td>4.000000</td>\n",
       "      <td>279.000000</td>\n",
       "      <td>17.400000</td>\n",
       "      <td>375.377500</td>\n",
       "      <td>6.950000</td>\n",
       "      <td>17.025000</td>\n",
       "    </tr>\n",
       "    <tr>\n",
       "      <th>50%</th>\n",
       "      <td>0.256510</td>\n",
       "      <td>0.000000</td>\n",
       "      <td>9.690000</td>\n",
       "      <td>0.000000</td>\n",
       "      <td>0.538000</td>\n",
       "      <td>6.208500</td>\n",
       "      <td>77.500000</td>\n",
       "      <td>3.207450</td>\n",
       "      <td>5.000000</td>\n",
       "      <td>330.000000</td>\n",
       "      <td>19.050000</td>\n",
       "      <td>391.440000</td>\n",
       "      <td>11.360000</td>\n",
       "      <td>21.200000</td>\n",
       "    </tr>\n",
       "    <tr>\n",
       "      <th>75%</th>\n",
       "      <td>3.677083</td>\n",
       "      <td>12.500000</td>\n",
       "      <td>18.100000</td>\n",
       "      <td>0.000000</td>\n",
       "      <td>0.624000</td>\n",
       "      <td>6.623500</td>\n",
       "      <td>94.075000</td>\n",
       "      <td>5.188425</td>\n",
       "      <td>24.000000</td>\n",
       "      <td>666.000000</td>\n",
       "      <td>20.200000</td>\n",
       "      <td>396.225000</td>\n",
       "      <td>16.955000</td>\n",
       "      <td>25.000000</td>\n",
       "    </tr>\n",
       "    <tr>\n",
       "      <th>max</th>\n",
       "      <td>88.976200</td>\n",
       "      <td>100.000000</td>\n",
       "      <td>27.740000</td>\n",
       "      <td>1.000000</td>\n",
       "      <td>0.871000</td>\n",
       "      <td>8.780000</td>\n",
       "      <td>100.000000</td>\n",
       "      <td>12.126500</td>\n",
       "      <td>24.000000</td>\n",
       "      <td>711.000000</td>\n",
       "      <td>22.000000</td>\n",
       "      <td>396.900000</td>\n",
       "      <td>37.970000</td>\n",
       "      <td>50.000000</td>\n",
       "    </tr>\n",
       "  </tbody>\n",
       "</table>\n",
       "</div>"
      ],
      "text/plain": [
       "             CRIM          ZN       INDUS        CHAS         NOX          RM  \\\n",
       "count  506.000000  506.000000  506.000000  506.000000  506.000000  506.000000   \n",
       "mean     3.613524   11.363636   11.136779    0.069170    0.554695    6.284634   \n",
       "std      8.601545   23.322453    6.860353    0.253994    0.115878    0.702617   \n",
       "min      0.006320    0.000000    0.460000    0.000000    0.385000    3.561000   \n",
       "25%      0.082045    0.000000    5.190000    0.000000    0.449000    5.885500   \n",
       "50%      0.256510    0.000000    9.690000    0.000000    0.538000    6.208500   \n",
       "75%      3.677083   12.500000   18.100000    0.000000    0.624000    6.623500   \n",
       "max     88.976200  100.000000   27.740000    1.000000    0.871000    8.780000   \n",
       "\n",
       "              AGE         DIS         RAD         TAX     PTRATIO           B  \\\n",
       "count  506.000000  506.000000  506.000000  506.000000  506.000000  506.000000   \n",
       "mean    68.574901    3.795043    9.549407  408.237154   18.455534  356.674032   \n",
       "std     28.148861    2.105710    8.707259  168.537116    2.164946   91.294864   \n",
       "min      2.900000    1.129600    1.000000  187.000000   12.600000    0.320000   \n",
       "25%     45.025000    2.100175    4.000000  279.000000   17.400000  375.377500   \n",
       "50%     77.500000    3.207450    5.000000  330.000000   19.050000  391.440000   \n",
       "75%     94.075000    5.188425   24.000000  666.000000   20.200000  396.225000   \n",
       "max    100.000000   12.126500   24.000000  711.000000   22.000000  396.900000   \n",
       "\n",
       "            LSTAT        MEDV  \n",
       "count  506.000000  506.000000  \n",
       "mean    12.653063   22.532806  \n",
       "std      7.141062    9.197104  \n",
       "min      1.730000    5.000000  \n",
       "25%      6.950000   17.025000  \n",
       "50%     11.360000   21.200000  \n",
       "75%     16.955000   25.000000  \n",
       "max     37.970000   50.000000  "
      ]
     },
     "execution_count": 7,
     "metadata": {},
     "output_type": "execute_result"
    }
   ],
   "source": [
    "df.describe()"
   ]
  },
  {
   "cell_type": "markdown",
   "id": "44bc6735",
   "metadata": {},
   "source": [
    "#### Checking correlation with target variable MEDV"
   ]
  },
  {
   "cell_type": "code",
   "execution_count": 8,
   "id": "64ef4b15",
   "metadata": {},
   "outputs": [
    {
     "data": {
      "text/plain": [
       "LSTAT     -0.737663\n",
       "PTRATIO   -0.507787\n",
       "INDUS     -0.483725\n",
       "TAX       -0.468536\n",
       "NOX       -0.427321\n",
       "CRIM      -0.388305\n",
       "RAD       -0.381626\n",
       "AGE       -0.376955\n",
       "CHAS       0.175260\n",
       "DIS        0.249929\n",
       "B          0.333461\n",
       "ZN         0.360445\n",
       "RM         0.695360\n",
       "MEDV       1.000000\n",
       "Name: MEDV, dtype: float64"
      ]
     },
     "execution_count": 8,
     "metadata": {},
     "output_type": "execute_result"
    }
   ],
   "source": [
    "df.corr()['MEDV'].sort_values()"
   ]
  },
  {
   "cell_type": "code",
   "execution_count": 9,
   "id": "7168e688",
   "metadata": {},
   "outputs": [
    {
     "data": {
      "text/plain": [
       "((506, 3), (506,))"
      ]
     },
     "execution_count": 9,
     "metadata": {},
     "output_type": "execute_result"
    }
   ],
   "source": [
    "X = df.loc[:,['LSTAT','PTRATIO','RM']]\n",
    "Y = df.loc[:,\"MEDV\"]\n",
    "X.shape,Y.shape"
   ]
  },
  {
   "cell_type": "markdown",
   "id": "08648c29",
   "metadata": {},
   "source": [
    "### Preparing training and testing data set"
   ]
  },
  {
   "cell_type": "code",
   "execution_count": 10,
   "id": "cecea370",
   "metadata": {},
   "outputs": [
    {
     "name": "stderr",
     "output_type": "stream",
     "text": [
      "C:\\Users\\Prajakta\\anaconda3\\lib\\site-packages\\scipy\\__init__.py:155: UserWarning: A NumPy version >=1.18.5 and <1.25.0 is required for this version of SciPy (detected version 1.26.1\n",
      "  warnings.warn(f\"A NumPy version >={np_minversion} and <{np_maxversion}\"\n"
     ]
    }
   ],
   "source": [
    "from sklearn.model_selection import train_test_split\n",
    "x_train,x_test,y_train,y_test = train_test_split(X,Y,test_size=0.25,random_state=10)"
   ]
  },
  {
   "cell_type": "markdown",
   "id": "7eabb9f2",
   "metadata": {},
   "source": [
    "### Normalizing training and testing dataset"
   ]
  },
  {
   "cell_type": "code",
   "execution_count": 11,
   "id": "926fe0ce",
   "metadata": {},
   "outputs": [],
   "source": [
    "from sklearn.preprocessing import StandardScaler"
   ]
  },
  {
   "cell_type": "code",
   "execution_count": 12,
   "id": "1e49c4a2",
   "metadata": {},
   "outputs": [],
   "source": [
    "scaler = StandardScaler()"
   ]
  },
  {
   "cell_type": "code",
   "execution_count": 13,
   "id": "b99b26de",
   "metadata": {},
   "outputs": [
    {
     "data": {
      "text/plain": [
       "StandardScaler()"
      ]
     },
     "execution_count": 13,
     "metadata": {},
     "output_type": "execute_result"
    }
   ],
   "source": [
    "scaler.fit(x_train)"
   ]
  },
  {
   "cell_type": "code",
   "execution_count": 14,
   "id": "eece8526",
   "metadata": {},
   "outputs": [],
   "source": [
    "x_train = scaler.transform(x_train)\n",
    "x_test = scaler.transform(x_test)"
   ]
  },
  {
   "cell_type": "markdown",
   "id": "a1ed18cc",
   "metadata": {},
   "source": [
    "### Preparing model"
   ]
  },
  {
   "cell_type": "code",
   "execution_count": 15,
   "id": "1243c6f8",
   "metadata": {},
   "outputs": [],
   "source": [
    "from keras.models import Sequential\n",
    "from keras.layers import Dense"
   ]
  },
  {
   "cell_type": "code",
   "execution_count": 16,
   "id": "e7dad931",
   "metadata": {},
   "outputs": [],
   "source": [
    "model = Sequential()"
   ]
  },
  {
   "cell_type": "code",
   "execution_count": 17,
   "id": "0baf27a9",
   "metadata": {},
   "outputs": [
    {
     "name": "stdout",
     "output_type": "stream",
     "text": [
      "Model: \"sequential\"\n",
      "_________________________________________________________________\n",
      " Layer (type)                Output Shape              Param #   \n",
      "=================================================================\n",
      " input (Dense)               (None, 128)               512       \n",
      "                                                                 \n",
      " layer_1 (Dense)             (None, 64)                8256      \n",
      "                                                                 \n",
      " output (Dense)              (None, 1)                 65        \n",
      "                                                                 \n",
      "=================================================================\n",
      "Total params: 8833 (34.50 KB)\n",
      "Trainable params: 8833 (34.50 KB)\n",
      "Non-trainable params: 0 (0.00 Byte)\n",
      "_________________________________________________________________\n"
     ]
    }
   ],
   "source": [
    "model.add(Dense(128,input_shape=(3,),activation='relu',name='input'))\n",
    "model.add(Dense(64,activation='relu',name='layer_1'))\n",
    "model.add(Dense(1,activation='linear',name='output'))\n",
    "model.compile(optimizer='adam', loss='mse', metrics=['mae'])\n",
    "model.summary()"
   ]
  },
  {
   "cell_type": "code",
   "execution_count": 18,
   "id": "4b51358b",
   "metadata": {},
   "outputs": [
    {
     "name": "stdout",
     "output_type": "stream",
     "text": [
      "Epoch 1/100\n",
      "12/12 [==============================] - 1s 23ms/step - loss: 532.1099 - mae: 21.4106 - val_loss: 702.4188 - val_mae: 23.7649\n",
      "Epoch 2/100\n",
      "12/12 [==============================] - 0s 5ms/step - loss: 495.6747 - mae: 20.5850 - val_loss: 655.5246 - val_mae: 22.7340\n",
      "Epoch 3/100\n",
      "12/12 [==============================] - 0s 5ms/step - loss: 440.8269 - mae: 19.2889 - val_loss: 584.7231 - val_mae: 21.0755\n",
      "Epoch 4/100\n",
      "12/12 [==============================] - 0s 5ms/step - loss: 362.1154 - mae: 17.2788 - val_loss: 489.0893 - val_mae: 18.8066\n",
      "Epoch 5/100\n",
      "12/12 [==============================] - 0s 5ms/step - loss: 262.8405 - mae: 14.5455 - val_loss: 376.4756 - val_mae: 15.9689\n",
      "Epoch 6/100\n",
      "12/12 [==============================] - 0s 7ms/step - loss: 160.7372 - mae: 11.2096 - val_loss: 265.1155 - val_mae: 12.5110\n",
      "Epoch 7/100\n",
      "12/12 [==============================] - 0s 5ms/step - loss: 82.8266 - mae: 7.8579 - val_loss: 185.2649 - val_mae: 10.2006\n",
      "Epoch 8/100\n",
      "12/12 [==============================] - 0s 6ms/step - loss: 50.2607 - mae: 5.8269 - val_loss: 142.4872 - val_mae: 8.4636\n",
      "Epoch 9/100\n",
      "12/12 [==============================] - 0s 6ms/step - loss: 41.1389 - mae: 5.0710 - val_loss: 121.7439 - val_mae: 7.6602\n",
      "Epoch 10/100\n",
      "12/12 [==============================] - 0s 6ms/step - loss: 34.2266 - mae: 4.5191 - val_loss: 109.6858 - val_mae: 7.3197\n",
      "Epoch 11/100\n",
      "12/12 [==============================] - 0s 6ms/step - loss: 29.3370 - mae: 4.0995 - val_loss: 102.7389 - val_mae: 7.1119\n",
      "Epoch 12/100\n",
      "12/12 [==============================] - 0s 5ms/step - loss: 26.7208 - mae: 3.8825 - val_loss: 96.3609 - val_mae: 6.8822\n",
      "Epoch 13/100\n",
      "12/12 [==============================] - 0s 5ms/step - loss: 24.8360 - mae: 3.7192 - val_loss: 91.2953 - val_mae: 6.7290\n",
      "Epoch 14/100\n",
      "12/12 [==============================] - 0s 5ms/step - loss: 23.5003 - mae: 3.5861 - val_loss: 89.7341 - val_mae: 6.6645\n",
      "Epoch 15/100\n",
      "12/12 [==============================] - 0s 6ms/step - loss: 22.5759 - mae: 3.4964 - val_loss: 89.4267 - val_mae: 6.6404\n",
      "Epoch 16/100\n",
      "12/12 [==============================] - 0s 6ms/step - loss: 21.7817 - mae: 3.4270 - val_loss: 87.3064 - val_mae: 6.5483\n",
      "Epoch 17/100\n",
      "12/12 [==============================] - 0s 6ms/step - loss: 21.1695 - mae: 3.3806 - val_loss: 86.9672 - val_mae: 6.5170\n",
      "Epoch 18/100\n",
      "12/12 [==============================] - 0s 7ms/step - loss: 20.5426 - mae: 3.3259 - val_loss: 85.7814 - val_mae: 6.4313\n",
      "Epoch 19/100\n",
      "12/12 [==============================] - 0s 8ms/step - loss: 20.0641 - mae: 3.2951 - val_loss: 84.6178 - val_mae: 6.3764\n",
      "Epoch 20/100\n",
      "12/12 [==============================] - 0s 7ms/step - loss: 19.4343 - mae: 3.2468 - val_loss: 83.7708 - val_mae: 6.2963\n",
      "Epoch 21/100\n",
      "12/12 [==============================] - 0s 5ms/step - loss: 19.0569 - mae: 3.2005 - val_loss: 85.1351 - val_mae: 6.2400\n",
      "Epoch 22/100\n",
      "12/12 [==============================] - 0s 6ms/step - loss: 18.7109 - mae: 3.1497 - val_loss: 84.9212 - val_mae: 6.2073\n",
      "Epoch 23/100\n",
      "12/12 [==============================] - 0s 6ms/step - loss: 18.1931 - mae: 3.1085 - val_loss: 83.3568 - val_mae: 6.1060\n",
      "Epoch 24/100\n",
      "12/12 [==============================] - 0s 6ms/step - loss: 18.0787 - mae: 3.1251 - val_loss: 82.1872 - val_mae: 6.0276\n",
      "Epoch 25/100\n",
      "12/12 [==============================] - 0s 6ms/step - loss: 17.6910 - mae: 3.0744 - val_loss: 86.1674 - val_mae: 6.1189\n",
      "Epoch 26/100\n",
      "12/12 [==============================] - 0s 6ms/step - loss: 17.3128 - mae: 3.0378 - val_loss: 83.4375 - val_mae: 6.0080\n",
      "Epoch 27/100\n",
      "12/12 [==============================] - 0s 6ms/step - loss: 16.9214 - mae: 3.0089 - val_loss: 82.2340 - val_mae: 5.9231\n",
      "Epoch 28/100\n",
      "12/12 [==============================] - 0s 6ms/step - loss: 16.7176 - mae: 2.9941 - val_loss: 83.1104 - val_mae: 5.9383\n",
      "Epoch 29/100\n",
      "12/12 [==============================] - 0s 6ms/step - loss: 16.5401 - mae: 2.9680 - val_loss: 81.0787 - val_mae: 5.8812\n",
      "Epoch 30/100\n",
      "12/12 [==============================] - 0s 5ms/step - loss: 16.3438 - mae: 2.9353 - val_loss: 80.6482 - val_mae: 5.8090\n",
      "Epoch 31/100\n",
      "12/12 [==============================] - 0s 6ms/step - loss: 16.0226 - mae: 2.9383 - val_loss: 79.9956 - val_mae: 5.7214\n",
      "Epoch 32/100\n",
      "12/12 [==============================] - 0s 6ms/step - loss: 15.8710 - mae: 2.9204 - val_loss: 81.3900 - val_mae: 5.7469\n",
      "Epoch 33/100\n",
      "12/12 [==============================] - 0s 7ms/step - loss: 15.6741 - mae: 2.8924 - val_loss: 81.8873 - val_mae: 5.7601\n",
      "Epoch 34/100\n",
      "12/12 [==============================] - 0s 5ms/step - loss: 15.5328 - mae: 2.8803 - val_loss: 81.7730 - val_mae: 5.7659\n",
      "Epoch 35/100\n",
      "12/12 [==============================] - 0s 6ms/step - loss: 15.4556 - mae: 2.8838 - val_loss: 79.2272 - val_mae: 5.6726\n",
      "Epoch 36/100\n",
      "12/12 [==============================] - 0s 5ms/step - loss: 15.4704 - mae: 2.8703 - val_loss: 82.2046 - val_mae: 5.7403\n",
      "Epoch 37/100\n",
      "12/12 [==============================] - 0s 6ms/step - loss: 15.0708 - mae: 2.8504 - val_loss: 79.7666 - val_mae: 5.6172\n",
      "Epoch 38/100\n",
      "12/12 [==============================] - 0s 6ms/step - loss: 15.0150 - mae: 2.8545 - val_loss: 80.4066 - val_mae: 5.6319\n",
      "Epoch 39/100\n",
      "12/12 [==============================] - 0s 5ms/step - loss: 14.8779 - mae: 2.8248 - val_loss: 82.0541 - val_mae: 5.6728\n",
      "Epoch 40/100\n",
      "12/12 [==============================] - 0s 5ms/step - loss: 14.7665 - mae: 2.8085 - val_loss: 80.5531 - val_mae: 5.6262\n",
      "Epoch 41/100\n",
      "12/12 [==============================] - 0s 5ms/step - loss: 14.5668 - mae: 2.7916 - val_loss: 80.5685 - val_mae: 5.6163\n",
      "Epoch 42/100\n",
      "12/12 [==============================] - 0s 6ms/step - loss: 14.4969 - mae: 2.8025 - val_loss: 80.2862 - val_mae: 5.5835\n",
      "Epoch 43/100\n",
      "12/12 [==============================] - 0s 5ms/step - loss: 14.3055 - mae: 2.7759 - val_loss: 81.4014 - val_mae: 5.6198\n",
      "Epoch 44/100\n",
      "12/12 [==============================] - 0s 5ms/step - loss: 14.3168 - mae: 2.7692 - val_loss: 80.4127 - val_mae: 5.5529\n",
      "Epoch 45/100\n",
      "12/12 [==============================] - 0s 6ms/step - loss: 14.2161 - mae: 2.7376 - val_loss: 80.9703 - val_mae: 5.5290\n",
      "Epoch 46/100\n",
      "12/12 [==============================] - 0s 6ms/step - loss: 14.2378 - mae: 2.7268 - val_loss: 82.8577 - val_mae: 5.5908\n",
      "Epoch 47/100\n",
      "12/12 [==============================] - 0s 5ms/step - loss: 14.0651 - mae: 2.7290 - val_loss: 80.6776 - val_mae: 5.5380\n",
      "Epoch 48/100\n",
      "12/12 [==============================] - 0s 7ms/step - loss: 13.8998 - mae: 2.7298 - val_loss: 79.6201 - val_mae: 5.4989\n",
      "Epoch 49/100\n",
      "12/12 [==============================] - 0s 5ms/step - loss: 13.8759 - mae: 2.7141 - val_loss: 81.9223 - val_mae: 5.5514\n",
      "Epoch 50/100\n",
      "12/12 [==============================] - 0s 5ms/step - loss: 13.8120 - mae: 2.6994 - val_loss: 80.0641 - val_mae: 5.4850\n",
      "Epoch 51/100\n",
      "12/12 [==============================] - 0s 7ms/step - loss: 13.7840 - mae: 2.6787 - val_loss: 82.1744 - val_mae: 5.5362\n",
      "Epoch 52/100\n",
      "12/12 [==============================] - 0s 6ms/step - loss: 13.5368 - mae: 2.6745 - val_loss: 80.1439 - val_mae: 5.4771\n",
      "Epoch 53/100\n",
      "12/12 [==============================] - 0s 6ms/step - loss: 13.4906 - mae: 2.6785 - val_loss: 80.2785 - val_mae: 5.4815\n",
      "Epoch 54/100\n",
      "12/12 [==============================] - 0s 6ms/step - loss: 13.4141 - mae: 2.6723 - val_loss: 81.2748 - val_mae: 5.4824\n",
      "Epoch 55/100\n",
      "12/12 [==============================] - 0s 6ms/step - loss: 13.3396 - mae: 2.6479 - val_loss: 80.8118 - val_mae: 5.4591\n",
      "Epoch 56/100\n",
      "12/12 [==============================] - 0s 6ms/step - loss: 13.3475 - mae: 2.6480 - val_loss: 82.4259 - val_mae: 5.4910\n",
      "Epoch 57/100\n",
      "12/12 [==============================] - 0s 6ms/step - loss: 13.1227 - mae: 2.6318 - val_loss: 80.6066 - val_mae: 5.4198\n",
      "Epoch 58/100\n",
      "12/12 [==============================] - 0s 5ms/step - loss: 13.0403 - mae: 2.6100 - val_loss: 81.6139 - val_mae: 5.4229\n",
      "Epoch 59/100\n",
      "12/12 [==============================] - 0s 6ms/step - loss: 13.0047 - mae: 2.5940 - val_loss: 81.5670 - val_mae: 5.4181\n",
      "Epoch 60/100\n",
      "12/12 [==============================] - 0s 6ms/step - loss: 12.9653 - mae: 2.6003 - val_loss: 81.8940 - val_mae: 5.4375\n",
      "Epoch 61/100\n",
      "12/12 [==============================] - 0s 6ms/step - loss: 12.9729 - mae: 2.6125 - val_loss: 79.0778 - val_mae: 5.3366\n",
      "Epoch 62/100\n",
      "12/12 [==============================] - 0s 5ms/step - loss: 12.7689 - mae: 2.5953 - val_loss: 83.4155 - val_mae: 5.4363\n",
      "Epoch 63/100\n",
      "12/12 [==============================] - 0s 5ms/step - loss: 12.7811 - mae: 2.5637 - val_loss: 80.0965 - val_mae: 5.3313\n",
      "Epoch 64/100\n",
      "12/12 [==============================] - 0s 6ms/step - loss: 13.1379 - mae: 2.6425 - val_loss: 85.9569 - val_mae: 5.5223\n",
      "Epoch 65/100\n",
      "12/12 [==============================] - 0s 6ms/step - loss: 12.9563 - mae: 2.6403 - val_loss: 77.8038 - val_mae: 5.3188\n",
      "Epoch 66/100\n",
      "12/12 [==============================] - 0s 5ms/step - loss: 12.5681 - mae: 2.5992 - val_loss: 82.8157 - val_mae: 5.4429\n",
      "Epoch 67/100\n",
      "12/12 [==============================] - 0s 6ms/step - loss: 12.4246 - mae: 2.5632 - val_loss: 80.7032 - val_mae: 5.3513\n",
      "Epoch 68/100\n",
      "12/12 [==============================] - 0s 5ms/step - loss: 12.3694 - mae: 2.5655 - val_loss: 82.0844 - val_mae: 5.3531\n",
      "Epoch 69/100\n",
      "12/12 [==============================] - 0s 5ms/step - loss: 12.2576 - mae: 2.5345 - val_loss: 82.7138 - val_mae: 5.3231\n",
      "Epoch 70/100\n",
      "12/12 [==============================] - 0s 5ms/step - loss: 12.0554 - mae: 2.5110 - val_loss: 81.6362 - val_mae: 5.2780\n",
      "Epoch 71/100\n",
      "12/12 [==============================] - 0s 5ms/step - loss: 12.1225 - mae: 2.5173 - val_loss: 80.7546 - val_mae: 5.2330\n",
      "Epoch 72/100\n",
      "12/12 [==============================] - 0s 6ms/step - loss: 11.9893 - mae: 2.4935 - val_loss: 83.3163 - val_mae: 5.3524\n",
      "Epoch 73/100\n",
      "12/12 [==============================] - 0s 6ms/step - loss: 11.9972 - mae: 2.5208 - val_loss: 79.3638 - val_mae: 5.2336\n",
      "Epoch 74/100\n",
      "12/12 [==============================] - 0s 6ms/step - loss: 11.8750 - mae: 2.4878 - val_loss: 84.5902 - val_mae: 5.3108\n",
      "Epoch 75/100\n",
      "12/12 [==============================] - 0s 6ms/step - loss: 11.7649 - mae: 2.4853 - val_loss: 82.9006 - val_mae: 5.2652\n",
      "Epoch 76/100\n",
      "12/12 [==============================] - 0s 6ms/step - loss: 11.6648 - mae: 2.4718 - val_loss: 81.6470 - val_mae: 5.2290\n",
      "Epoch 77/100\n",
      "12/12 [==============================] - 0s 5ms/step - loss: 11.6553 - mae: 2.4773 - val_loss: 81.9240 - val_mae: 5.2812\n",
      "Epoch 78/100\n",
      "12/12 [==============================] - 0s 5ms/step - loss: 11.5867 - mae: 2.4759 - val_loss: 84.3460 - val_mae: 5.3161\n",
      "Epoch 79/100\n",
      "12/12 [==============================] - 0s 5ms/step - loss: 11.5094 - mae: 2.4689 - val_loss: 82.4013 - val_mae: 5.2174\n",
      "Epoch 80/100\n",
      "12/12 [==============================] - 0s 6ms/step - loss: 11.4243 - mae: 2.4551 - val_loss: 82.4487 - val_mae: 5.2296\n",
      "Epoch 81/100\n",
      "12/12 [==============================] - 0s 6ms/step - loss: 11.3285 - mae: 2.4368 - val_loss: 83.1452 - val_mae: 5.2242\n",
      "Epoch 82/100\n",
      "12/12 [==============================] - 0s 5ms/step - loss: 11.3065 - mae: 2.4413 - val_loss: 83.6610 - val_mae: 5.2686\n",
      "Epoch 83/100\n",
      "12/12 [==============================] - 0s 5ms/step - loss: 11.4515 - mae: 2.4797 - val_loss: 82.3840 - val_mae: 5.2169\n",
      "Epoch 84/100\n",
      "12/12 [==============================] - 0s 5ms/step - loss: 11.3011 - mae: 2.4293 - val_loss: 81.6081 - val_mae: 5.2111\n",
      "Epoch 85/100\n",
      "12/12 [==============================] - 0s 6ms/step - loss: 11.1981 - mae: 2.4248 - val_loss: 82.3300 - val_mae: 5.2684\n",
      "Epoch 86/100\n",
      "12/12 [==============================] - 0s 5ms/step - loss: 11.0736 - mae: 2.4139 - val_loss: 81.2434 - val_mae: 5.1683\n",
      "Epoch 87/100\n",
      "12/12 [==============================] - 0s 5ms/step - loss: 11.1898 - mae: 2.4231 - val_loss: 84.1697 - val_mae: 5.2617\n",
      "Epoch 88/100\n",
      "12/12 [==============================] - 0s 5ms/step - loss: 11.2910 - mae: 2.4429 - val_loss: 82.5173 - val_mae: 5.1734\n",
      "Epoch 89/100\n",
      "12/12 [==============================] - 0s 6ms/step - loss: 10.9657 - mae: 2.4125 - val_loss: 84.3135 - val_mae: 5.2584\n",
      "Epoch 90/100\n",
      "12/12 [==============================] - 0s 6ms/step - loss: 11.0143 - mae: 2.4105 - val_loss: 82.9928 - val_mae: 5.1879\n",
      "Epoch 91/100\n",
      "12/12 [==============================] - 0s 6ms/step - loss: 10.8613 - mae: 2.3977 - val_loss: 84.9389 - val_mae: 5.2935\n",
      "Epoch 92/100\n",
      "12/12 [==============================] - 0s 6ms/step - loss: 10.8652 - mae: 2.4009 - val_loss: 84.1680 - val_mae: 5.2909\n",
      "Epoch 93/100\n",
      "12/12 [==============================] - 0s 6ms/step - loss: 10.9116 - mae: 2.4182 - val_loss: 82.7020 - val_mae: 5.1992\n",
      "Epoch 94/100\n",
      "12/12 [==============================] - 0s 6ms/step - loss: 10.8812 - mae: 2.4017 - val_loss: 85.3288 - val_mae: 5.2905\n",
      "Epoch 95/100\n",
      "12/12 [==============================] - 0s 6ms/step - loss: 10.7651 - mae: 2.3987 - val_loss: 83.1912 - val_mae: 5.1997\n",
      "Epoch 96/100\n",
      "12/12 [==============================] - 0s 6ms/step - loss: 10.7142 - mae: 2.3846 - val_loss: 84.1247 - val_mae: 5.2856\n",
      "Epoch 97/100\n",
      "12/12 [==============================] - 0s 5ms/step - loss: 10.6719 - mae: 2.3898 - val_loss: 84.1969 - val_mae: 5.2620\n",
      "Epoch 98/100\n",
      "12/12 [==============================] - 0s 5ms/step - loss: 10.9382 - mae: 2.4164 - val_loss: 81.6697 - val_mae: 5.1238\n",
      "Epoch 99/100\n",
      "12/12 [==============================] - 0s 6ms/step - loss: 10.6325 - mae: 2.3587 - val_loss: 85.2976 - val_mae: 5.2382\n",
      "Epoch 100/100\n",
      "12/12 [==============================] - 0s 6ms/step - loss: 10.4999 - mae: 2.3530 - val_loss: 84.2846 - val_mae: 5.2156\n"
     ]
    },
    {
     "data": {
      "text/plain": [
       "<keras.src.callbacks.History at 0x20632face80>"
      ]
     },
     "execution_count": 18,
     "metadata": {},
     "output_type": "execute_result"
    }
   ],
   "source": [
    "model.fit(x_train,y_train,epochs=100,validation_split=0.05)"
   ]
  },
  {
   "cell_type": "code",
   "execution_count": 19,
   "id": "e2afb08a",
   "metadata": {},
   "outputs": [
    {
     "name": "stdout",
     "output_type": "stream",
     "text": [
      "4/4 [==============================] - 0s 3ms/step - loss: 22.8024 - mae: 3.1065\n"
     ]
    }
   ],
   "source": [
    "output = model.evaluate(x_test,y_test)"
   ]
  },
  {
   "cell_type": "code",
   "execution_count": 20,
   "id": "b7bf34bd",
   "metadata": {},
   "outputs": [
    {
     "name": "stdout",
     "output_type": "stream",
     "text": [
      "Mean Squared Error: 22.802431106567383\n",
      "Mean Absolute Error: 3.1065168380737305\n"
     ]
    }
   ],
   "source": [
    "print(f\"Mean Squared Error: {output[0]}\"\n",
    "      ,f\"Mean Absolute Error: {output[1]}\",sep=\"\\n\")"
   ]
  },
  {
   "cell_type": "code",
   "execution_count": 21,
   "id": "85333e40",
   "metadata": {},
   "outputs": [
    {
     "name": "stdout",
     "output_type": "stream",
     "text": [
      "4/4 [==============================] - 0s 2ms/step\n"
     ]
    }
   ],
   "source": [
    "y_pred = model.predict(x=x_test)"
   ]
  },
  {
   "cell_type": "code",
   "execution_count": 22,
   "id": "4be4c127",
   "metadata": {},
   "outputs": [
    {
     "name": "stdout",
     "output_type": "stream",
     "text": [
      "(array([25.221836], dtype=float32), 28.4) (array([30.431992], dtype=float32), 31.1) (array([25.415073], dtype=float32), 23.5) (array([27.306015], dtype=float32), 26.6) (array([18.891022], dtype=float32), 19.6) (array([16.536648], dtype=float32), 14.3) (array([42.065563], dtype=float32), 50.0) (array([14.561501], dtype=float32), 14.3) (array([19.709072], dtype=float32), 20.7) (array([43.46099], dtype=float32), 37.6) (array([17.545816], dtype=float32), 20.4) (array([27.164162], dtype=float32), 27.5) (array([22.340233], dtype=float32), 36.2) (array([31.983356], dtype=float32), 32.0) (array([30.85106], dtype=float32), 33.1) (array([52.207726], dtype=float32), 48.8) (array([25.41881], dtype=float32), 24.6) (array([19.280865], dtype=float32), 26.4) (array([20.983564], dtype=float32), 23.2) (array([19.977396], dtype=float32), 17.0) (array([33.20011], dtype=float32), 41.3) (array([15.400363], dtype=float32), 14.9) (array([22.275238], dtype=float32), 18.5) (array([24.576015], dtype=float32), 25.0) (array([36.917408], dtype=float32), 36.4) (array([21.03918], dtype=float32), 19.5) (array([18.83247], dtype=float32), 27.1) (array([16.585718], dtype=float32), 14.9) (array([43.05659], dtype=float32), 46.0) (array([10.646663], dtype=float32), 17.9) (array([34.614834], dtype=float32), 30.3) (array([32.4555], dtype=float32), 31.6) (array([26.430698], dtype=float32), 23.1) (array([23.914291], dtype=float32), 24.7) (array([14.710073], dtype=float32), 16.7) (array([19.423252], dtype=float32), 18.3) (array([8.384604], dtype=float32), 8.4) (array([31.91967], dtype=float32), 37.3) (array([24.559853], dtype=float32), 22.1) (array([24.392616], dtype=float32), 22.0) (array([39.409187], dtype=float32), 46.7) (array([26.291414], dtype=float32), 30.1) (array([13.706344], dtype=float32), 12.1) (array([28.644705], dtype=float32), 29.1) (array([17.094595], dtype=float32), 16.6) (array([27.412725], dtype=float32), 23.9) (array([18.008991], dtype=float32), 19.9) (array([18.636179], dtype=float32), 21.4) (array([44.814068], dtype=float32), 45.4) (array([15.903626], dtype=float32), 15.6) (array([20.185905], dtype=float32), 22.7) (array([14.29954], dtype=float32), 12.5) (array([20.28388], dtype=float32), 24.3) (array([39.569016], dtype=float32), 43.8) (array([23.904095], dtype=float32), 22.0) (array([34.82041], dtype=float32), 33.8) (array([19.261192], dtype=float32), 19.3) (array([18.996836], dtype=float32), 22.6) (array([20.920116], dtype=float32), 16.1) (array([21.650822], dtype=float32), 15.0) (array([18.312878], dtype=float32), 19.6) (array([20.960066], dtype=float32), 21.2) (array([51.64235], dtype=float32), 50.0) (array([56.526836], dtype=float32), 50.0) (array([27.280758], dtype=float32), 29.4) (array([14.19939], dtype=float32), 17.8) (array([24.566936], dtype=float32), 22.8) (array([12.036618], dtype=float32), 8.8) (array([27.299751], dtype=float32), 32.5) (array([39.869686], dtype=float32), 42.8) (array([16.46193], dtype=float32), 12.6) (array([27.897213], dtype=float32), 28.6) (array([17.560898], dtype=float32), 19.1) (array([21.572357], dtype=float32), 50.0) (array([21.332478], dtype=float32), 27.5) (array([11.835707], dtype=float32), 23.7) (array([48.418602], dtype=float32), 50.0) (array([9.89326], dtype=float32), 7.2) (array([19.607319], dtype=float32), 18.7) (array([32.571632], dtype=float32), 37.0) (array([20.03522], dtype=float32), 22.9) (array([24.801868], dtype=float32), 22.9) (array([19.370678], dtype=float32), 17.1) (array([24.501236], dtype=float32), 22.0) (array([31.409786], dtype=float32), 23.6) (array([25.582611], dtype=float32), 23.9) (array([25.597359], dtype=float32), 27.1) (array([34.26571], dtype=float32), 29.0) (array([23.663895], dtype=float32), 22.2) (array([10.477812], dtype=float32), 7.0) (array([22.880203], dtype=float32), 20.7) (array([20.82023], dtype=float32), 18.5) (array([23.897783], dtype=float32), 21.6) (array([24.210632], dtype=float32), 23.0) (array([18.747238], dtype=float32), 16.0) (array([19.199007], dtype=float32), 15.0) (array([25.630962], dtype=float32), 23.9) (array([19.392864], dtype=float32), 24.4) (array([20.887482], dtype=float32), 22.6) (array([18.555767], dtype=float32), 19.8) (array([21.76447], dtype=float32), 22.2) (array([19.621908], dtype=float32), 18.6) (array([19.239697], dtype=float32), 19.7) (array([25.1515], dtype=float32), 23.1) (array([13.117158], dtype=float32), 13.5) (array([21.319315], dtype=float32), 21.2) (array([18.577156], dtype=float32), 23.1) (array([15.592648], dtype=float32), 13.6) (array([28.431274], dtype=float32), 22.8) (array([22.942993], dtype=float32), 18.2) (array([11.695574], dtype=float32), 13.1) (array([17.810242], dtype=float32), 23.2) (array([25.291603], dtype=float32), 22.8) (array([24.878685], dtype=float32), 25.1) (array([21.903809], dtype=float32), 18.9) (array([13.236569], dtype=float32), 10.9) (array([14.078445], dtype=float32), 19.3) (array([20.079304], dtype=float32), 17.4) (array([18.462124], dtype=float32), 15.6) (array([20.074656], dtype=float32), 20.6) (array([29.373734], dtype=float32), 50.0) (array([35.72362], dtype=float32), 32.7) (array([20.727842], dtype=float32), 21.8) (array([15.845888], dtype=float32), 13.4) (array([16.882076], dtype=float32), 16.6) (array([23.401749], dtype=float32), 23.6) (array([12.986936], dtype=float32), 11.0)\n"
     ]
    }
   ],
   "source": [
    "print(*zip(y_pred,y_test))"
   ]
  },
  {
   "cell_type": "code",
   "execution_count": 23,
   "id": "fbaee296",
   "metadata": {},
   "outputs": [
    {
     "data": {
      "image/png": "[encoded data removed]",
      "text/plain": [
       "<Figure size 640x480 with 2 Axes>"
      ]
     },
     "metadata": {},
     "output_type": "display_data"
    }
   ],
   "source": [
    "import numpy as np\n",
    "import seaborn as sns\n",
    "import matplotlib.pyplot as plt\n",
    "# Create a heatmap\n",
    "sns.heatmap(df)\n",
    "\n",
    "# Show the plot\n",
    "plt.show()\n"
   ]
  },
  {
   "cell_type": "code",
   "execution_count": null,
   "id": "9597c3a3",
   "metadata": {},
   "outputs": [],
   "source": []
  }
 ],
 "metadata": {
  "kernelspec": {
   "display_name": "Python 3 (ipykernel)",
   "language": "python",
   "name": "python3"
  },
  "language_info": {
   "codemirror_mode": {
    "name": "ipython",
    "version": 3
   },
   "file_extension": ".py",
   "mimetype": "text/x-python",
   "name": "python",
   "nbconvert_exporter": "python",
   "pygments_lexer": "ipython3",
   "version": "3.9.13"
  }
 },
 "nbformat": 4,
 "nbformat_minor": 5
}
